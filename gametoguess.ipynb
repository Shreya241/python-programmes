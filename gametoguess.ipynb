{
 "cells": [
  {
   "cell_type": "code",
   "execution_count": 1,
   "metadata": {},
   "outputs": [
    {
     "name": "stdout",
     "output_type": "stream",
     "text": [
      "Hello! What is your name:Shreya\n",
      "Well, Shreya, I am thinking of a number between 1 and 25.\n",
      "The number is a prime number\n",
      "Enter your guess number:3\n",
      "Your guess is too high.\n",
      "Enter your guess number:1\n",
      "Your guess is too low.\n",
      "Enter your guess number:2\n",
      "Good job, Shreya! You guessed my number in 3 guesses!\n"
     ]
    }
   ],
   "source": [
    "import random#importing random To get access to the random module\n",
    "\n",
    "guessesTaken = 0#initializing values of guesses\n",
    "\n",
    "\n",
    "\n",
    "myName = input(\"Hello! What is your name:\")#asking user to enter name\n",
    "x=(random.randint(0,25))#giving range to random variablt\n",
    "print('Well, ' + myName + ', I am thinking of a number between 1 and 25.')\n",
    "prime=[2, 3, 5, 7, 11, 13, 17, 19, 23]#creating a prime number set\n",
    "if x in prime:\n",
    "    print(\"The number is a prime number\")#checking for prme number\n",
    "elif x%2==0:\n",
    "    print(\"The number is a even number\")#checking for even number\n",
    "else:\n",
    "    print(\"The number is a odd number\")#if not een then for odd number\n",
    "\n",
    "\n",
    "while guessesTaken < 25: #using while loop for guess<26\n",
    "    \n",
    "    guess=int(input(\"Enter your guess number:\"))#asking user to enter his/her guess\n",
    "\n",
    "    guessesTaken = guessesTaken+1#incrementing number of guesses each time\n",
    "    if guess < x:#if guess id smaller than the value\n",
    "        print('Your guess is too low.')\n",
    "    if guess > x:#when guess is higher than the value\n",
    "        print('Your guess is too high.')\n",
    "    if guess == x:#when he gusses correct value\n",
    "        break#break the while loop\n",
    "if guess == x:\n",
    "    guessesTaken = str(guessesTaken)#the number of guesses to string\n",
    "    print('Good job, ' + myName + '! You guessed my number in ' + guessesTaken + ' guesses!')\n",
    "\n",
    "\n",
    "\n",
    "\n"
   ]
  },
  {
   "cell_type": "code",
   "execution_count": null,
   "metadata": {},
   "outputs": [],
   "source": []
  }
 ],
 "metadata": {
  "kernelspec": {
   "display_name": "Python 3",
   "language": "python",
   "name": "python3"
  },
  "language_info": {
   "codemirror_mode": {
    "name": "ipython",
    "version": 3
   },
   "file_extension": ".py",
   "mimetype": "text/x-python",
   "name": "python",
   "nbconvert_exporter": "python",
   "pygments_lexer": "ipython3",
   "version": "3.8.3"
  }
 },
 "nbformat": 4,
 "nbformat_minor": 4
}
