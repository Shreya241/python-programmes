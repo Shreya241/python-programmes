{
 "cells": [
  {
   "cell_type": "code",
   "execution_count": 1,
   "metadata": {},
   "outputs": [
    {
     "name": "stdout",
     "output_type": "stream",
     "text": [
      "Enter lower limit:100\n",
      "Enter upper limit:1000\n",
      "the Armstrong number in the given range are:\n",
      "[153, 370, 371, 407]\n"
     ]
    }
   ],
   "source": [
    "\n",
    "# Program to check Armstrong numbers in a certain interval\n",
    "list1=[]\n",
    "lower = int(input(\"Enter lower limit:\"))#asking for lower interval\n",
    "upper = int(input(\"Enter upper limit:\"))#asking for upper interval\n",
    "\n",
    "for num in range(lower, upper + 1):#for any number in range\n",
    "\n",
    "   # order of number\n",
    "   order = len(str(num))\n",
    "\n",
    "   # initialize sum\n",
    "   sum = 0\n",
    "\n",
    "   temp = num\n",
    "   while temp > 0:#when temp greater than 0\n",
    "       digit=temp%10#reminder\n",
    "       sum =sum+digit**order\n",
    "       temp //= 10#temp=temp//10\n",
    "\n",
    "   if num == sum:#if num is equal to sum\n",
    "       list1.append(num)#appending to list1\n",
    "print(\"the Armstrong number in the given range are:\")\n",
    "print(list1)\n",
    "\n",
    "\n",
    "\n",
    "\n"
   ]
  },
  {
   "cell_type": "code",
   "execution_count": null,
   "metadata": {},
   "outputs": [],
   "source": []
  }
 ],
 "metadata": {
  "kernelspec": {
   "display_name": "Python 3",
   "language": "python",
   "name": "python3"
  },
  "language_info": {
   "codemirror_mode": {
    "name": "ipython",
    "version": 3
   },
   "file_extension": ".py",
   "mimetype": "text/x-python",
   "name": "python",
   "nbconvert_exporter": "python",
   "pygments_lexer": "ipython3",
   "version": "3.8.3"
  }
 },
 "nbformat": 4,
 "nbformat_minor": 4
}
